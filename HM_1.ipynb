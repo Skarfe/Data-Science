{
 "cells": [
  {
   "cell_type": "code",
   "execution_count": 72,
   "id": "ce65966a",
   "metadata": {},
   "outputs": [],
   "source": [
    "import numpy as np"
   ]
  },
  {
   "cell_type": "code",
   "execution_count": 73,
   "id": "69816617",
   "metadata": {},
   "outputs": [],
   "source": [
    "a = np.array([[1, 6],[2, 8],[3, 11],[3, 10],[1, 7]])"
   ]
  },
  {
   "cell_type": "code",
   "execution_count": 74,
   "id": "70329530",
   "metadata": {},
   "outputs": [
    {
     "data": {
      "text/plain": [
       "array([[ 1,  6],\n",
       "       [ 2,  8],\n",
       "       [ 3, 11],\n",
       "       [ 3, 10],\n",
       "       [ 1,  7]])"
      ]
     },
     "execution_count": 74,
     "metadata": {},
     "output_type": "execute_result"
    }
   ],
   "source": [
    "a"
   ]
  },
  {
   "cell_type": "code",
   "execution_count": 75,
   "id": "3395e589",
   "metadata": {},
   "outputs": [],
   "source": [
    "mean_a=[np.mean(a[:,:1]),np.mean(a[:,1:])]"
   ]
  },
  {
   "cell_type": "code",
   "execution_count": 76,
   "id": "0df3e613",
   "metadata": {},
   "outputs": [
    {
     "data": {
      "text/plain": [
       "[2.0, 8.4]"
      ]
     },
     "execution_count": 76,
     "metadata": {},
     "output_type": "execute_result"
    }
   ],
   "source": [
    "mean_a"
   ]
  },
  {
   "cell_type": "code",
   "execution_count": 77,
   "id": "7e584dad",
   "metadata": {},
   "outputs": [],
   "source": [
    "a_centered = a - mean_a"
   ]
  },
  {
   "cell_type": "code",
   "execution_count": 101,
   "id": "b74175d9",
   "metadata": {},
   "outputs": [
    {
     "data": {
      "text/plain": [
       "array([[-1. , -2.4],\n",
       "       [ 0. , -0.4],\n",
       "       [ 1. ,  2.6],\n",
       "       [ 1. ,  1.6],\n",
       "       [-1. , -1.4]])"
      ]
     },
     "execution_count": 101,
     "metadata": {},
     "output_type": "execute_result"
    }
   ],
   "source": [
    "a_centered"
   ]
  },
  {
   "cell_type": "code",
   "execution_count": 122,
   "id": "50b57e4d",
   "metadata": {},
   "outputs": [],
   "source": [
    "a_centered_sp = np.reshape(a_centered[:,:1], (1,5))[0] @ np.reshape(a_centered[:,1:], (1,5))[0]"
   ]
  },
  {
   "cell_type": "code",
   "execution_count": 123,
   "id": "44f0f53c",
   "metadata": {},
   "outputs": [
    {
     "data": {
      "text/plain": [
       "8.0"
      ]
     },
     "execution_count": 123,
     "metadata": {},
     "output_type": "execute_result"
    }
   ],
   "source": [
    "a_centered_sp"
   ]
  },
  {
   "cell_type": "code",
   "execution_count": 124,
   "id": "56f540d2",
   "metadata": {},
   "outputs": [],
   "source": [
    "a_centered_sp_result = a_centered_sp/(a.shape[0]-1)"
   ]
  },
  {
   "cell_type": "code",
   "execution_count": 125,
   "id": "605c8ea4",
   "metadata": {},
   "outputs": [
    {
     "data": {
      "text/plain": [
       "2.0"
      ]
     },
     "execution_count": 125,
     "metadata": {},
     "output_type": "execute_result"
    }
   ],
   "source": [
    "a_centered_sp_result"
   ]
  }
 ],
 "metadata": {
  "kernelspec": {
   "display_name": "Python 3 (ipykernel)",
   "language": "python",
   "name": "python3"
  },
  "language_info": {
   "codemirror_mode": {
    "name": "ipython",
    "version": 3
   },
   "file_extension": ".py",
   "mimetype": "text/x-python",
   "name": "python",
   "nbconvert_exporter": "python",
   "pygments_lexer": "ipython3",
   "version": "3.9.7"
  }
 },
 "nbformat": 4,
 "nbformat_minor": 5
}
